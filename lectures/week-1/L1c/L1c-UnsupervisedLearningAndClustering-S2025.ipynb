{
 "cells": [
  {
   "cell_type": "markdown",
   "id": "b22de358-dcc9-46f0-8dfe-c87eba386156",
   "metadata": {
    "editable": true,
    "slideshow": {
     "slide_type": "slide"
    },
    "tags": []
   },
   "source": [
    "# Lecture 1c: Unsupervised Learning and Clustering Approaches\n",
    "This lecture introduces the first unsupervised learning approaches we will explore: k-means clustering and self-organizing maps. We will use these algorithms to identify hidden patterns and structures in data without explicit guidance.\n",
    "\n",
    "The key concepts covered in this lecture include:\n",
    "* __Unsupervised learning__: is a type of machine learning that involves training algorithms on unlabeled data. Unsupervised learning aims to identify patterns and structures in data without explicit guidance. \n",
    "Unsupervised learning is particularly useful when dealing with large volumes of unstructured data or when the desired outcomes are unknown.}\n",
    "* __Clustering__: is a typical unsupervised learning technique that involves dividing a dataset into distinct groups, or clusters, based on the similarity of data points. \n",
    "Clustering algorithms aim to group data points that are more similar to each other than to those in different clusters.\n",
    "* __K-means clustering__ is a popular and straightforward clustering algorithm that partitions a dataset into $k$ clusters. \n",
    "The algorithm iteratively assigns data points to the nearest cluster center and updates the cluster centers based on the mean of the assigned points.\n",
    "* __Self-organizing maps (SOMs)__: are another unsupervised learning algorithm that uses a neural network to map high-dimensional data onto a lower-dimensional grid.\n",
    "\n",
    "Lecture notes can be found: [here!](docs/Notes.pdf)"
   ]
  },
  {
   "cell_type": "markdown",
   "id": "cac1e683-9771-4d5b-a711-6b7f4ad27270",
   "metadata": {},
   "source": [
    "## Prerequisites\n",
    "We set up the computational environment by including the `Include.jl` file and then load any needed resources. Finally, we end by setting up any required constants. The `Include.jl` file loads external packages, various functions that we will use in the exercise, and custom types to model the components of our problem."
   ]
  },
  {
   "cell_type": "code",
   "execution_count": 10,
   "id": "b9f9765b-0228-473e-8448-fa2fb2f0fd29",
   "metadata": {},
   "outputs": [],
   "source": [
    "include(\"Include.jl\")"
   ]
  },
  {
   "cell_type": "markdown",
   "id": "f56d6de9-a982-459d-b9d6-d7aa3bdd4527",
   "metadata": {},
   "source": [
    "In this lecture, we'll work with a [customer spending preferences dataset from Kaggle](https://www.kaggle.com/code/heeraldedhia/kmeans-clustering-for-customer-data?select=Mall_Customers.csv). This dataset was created learning customer segmentation concepts, known as [market basket analysis](https://en.wikipedia.org/wiki/Market_basket). We will demonstrate the unsupervised ML technique: k-means clustering analysis."
   ]
  },
  {
   "cell_type": "code",
   "execution_count": 65,
   "id": "ead82b96-c9ac-408f-9424-8c909316306c",
   "metadata": {},
   "outputs": [
    {
     "data": {
      "text/html": [
       "<div><div style = \"float: left;\"><span>200×5 DataFrame</span></div><div style = \"float: right;\"><span style = \"font-style: italic;\">175 rows omitted</span></div><div style = \"clear: both;\"></div></div><div class = \"data-frame\" style = \"overflow-x: scroll;\"><table class = \"data-frame\" style = \"margin-bottom: 6px;\"><thead><tr class = \"header\"><th class = \"rowNumber\" style = \"font-weight: bold; text-align: right;\">Row</th><th style = \"text-align: left;\">id</th><th style = \"text-align: left;\">gender</th><th style = \"text-align: left;\">age</th><th style = \"text-align: left;\">income</th><th style = \"text-align: left;\">spendingscore</th></tr><tr class = \"subheader headerLastRow\"><th class = \"rowNumber\" style = \"font-weight: bold; text-align: right;\"></th><th title = \"Int64\" style = \"text-align: left;\">Int64</th><th title = \"String7\" style = \"text-align: left;\">String7</th><th title = \"Int64\" style = \"text-align: left;\">Int64</th><th title = \"Int64\" style = \"text-align: left;\">Int64</th><th title = \"Int64\" style = \"text-align: left;\">Int64</th></tr></thead><tbody><tr><td class = \"rowNumber\" style = \"font-weight: bold; text-align: right;\">1</td><td style = \"text-align: right;\">1</td><td style = \"text-align: left;\">Male</td><td style = \"text-align: right;\">19</td><td style = \"text-align: right;\">15</td><td style = \"text-align: right;\">39</td></tr><tr><td class = \"rowNumber\" style = \"font-weight: bold; text-align: right;\">2</td><td style = \"text-align: right;\">2</td><td style = \"text-align: left;\">Male</td><td style = \"text-align: right;\">21</td><td style = \"text-align: right;\">15</td><td style = \"text-align: right;\">81</td></tr><tr><td class = \"rowNumber\" style = \"font-weight: bold; text-align: right;\">3</td><td style = \"text-align: right;\">3</td><td style = \"text-align: left;\">Female</td><td style = \"text-align: right;\">20</td><td style = \"text-align: right;\">16</td><td style = \"text-align: right;\">6</td></tr><tr><td class = \"rowNumber\" style = \"font-weight: bold; text-align: right;\">4</td><td style = \"text-align: right;\">4</td><td style = \"text-align: left;\">Female</td><td style = \"text-align: right;\">23</td><td style = \"text-align: right;\">16</td><td style = \"text-align: right;\">77</td></tr><tr><td class = \"rowNumber\" style = \"font-weight: bold; text-align: right;\">5</td><td style = \"text-align: right;\">5</td><td style = \"text-align: left;\">Female</td><td style = \"text-align: right;\">31</td><td style = \"text-align: right;\">17</td><td style = \"text-align: right;\">40</td></tr><tr><td class = \"rowNumber\" style = \"font-weight: bold; text-align: right;\">6</td><td style = \"text-align: right;\">6</td><td style = \"text-align: left;\">Female</td><td style = \"text-align: right;\">22</td><td style = \"text-align: right;\">17</td><td style = \"text-align: right;\">76</td></tr><tr><td class = \"rowNumber\" style = \"font-weight: bold; text-align: right;\">7</td><td style = \"text-align: right;\">7</td><td style = \"text-align: left;\">Female</td><td style = \"text-align: right;\">35</td><td style = \"text-align: right;\">18</td><td style = \"text-align: right;\">6</td></tr><tr><td class = \"rowNumber\" style = \"font-weight: bold; text-align: right;\">8</td><td style = \"text-align: right;\">8</td><td style = \"text-align: left;\">Female</td><td style = \"text-align: right;\">23</td><td style = \"text-align: right;\">18</td><td style = \"text-align: right;\">94</td></tr><tr><td class = \"rowNumber\" style = \"font-weight: bold; text-align: right;\">9</td><td style = \"text-align: right;\">9</td><td style = \"text-align: left;\">Male</td><td style = \"text-align: right;\">64</td><td style = \"text-align: right;\">19</td><td style = \"text-align: right;\">3</td></tr><tr><td class = \"rowNumber\" style = \"font-weight: bold; text-align: right;\">10</td><td style = \"text-align: right;\">10</td><td style = \"text-align: left;\">Female</td><td style = \"text-align: right;\">30</td><td style = \"text-align: right;\">19</td><td style = \"text-align: right;\">72</td></tr><tr><td class = \"rowNumber\" style = \"font-weight: bold; text-align: right;\">11</td><td style = \"text-align: right;\">11</td><td style = \"text-align: left;\">Male</td><td style = \"text-align: right;\">67</td><td style = \"text-align: right;\">19</td><td style = \"text-align: right;\">14</td></tr><tr><td class = \"rowNumber\" style = \"font-weight: bold; text-align: right;\">12</td><td style = \"text-align: right;\">12</td><td style = \"text-align: left;\">Female</td><td style = \"text-align: right;\">35</td><td style = \"text-align: right;\">19</td><td style = \"text-align: right;\">99</td></tr><tr><td class = \"rowNumber\" style = \"font-weight: bold; text-align: right;\">13</td><td style = \"text-align: right;\">13</td><td style = \"text-align: left;\">Female</td><td style = \"text-align: right;\">58</td><td style = \"text-align: right;\">20</td><td style = \"text-align: right;\">15</td></tr><tr><td style = \"text-align: right;\">&vellip;</td><td style = \"text-align: right;\">&vellip;</td><td style = \"text-align: right;\">&vellip;</td><td style = \"text-align: right;\">&vellip;</td><td style = \"text-align: right;\">&vellip;</td><td style = \"text-align: right;\">&vellip;</td></tr><tr><td class = \"rowNumber\" style = \"font-weight: bold; text-align: right;\">189</td><td style = \"text-align: right;\">189</td><td style = \"text-align: left;\">Female</td><td style = \"text-align: right;\">41</td><td style = \"text-align: right;\">103</td><td style = \"text-align: right;\">17</td></tr><tr><td class = \"rowNumber\" style = \"font-weight: bold; text-align: right;\">190</td><td style = \"text-align: right;\">190</td><td style = \"text-align: left;\">Female</td><td style = \"text-align: right;\">36</td><td style = \"text-align: right;\">103</td><td style = \"text-align: right;\">85</td></tr><tr><td class = \"rowNumber\" style = \"font-weight: bold; text-align: right;\">191</td><td style = \"text-align: right;\">191</td><td style = \"text-align: left;\">Female</td><td style = \"text-align: right;\">34</td><td style = \"text-align: right;\">103</td><td style = \"text-align: right;\">23</td></tr><tr><td class = \"rowNumber\" style = \"font-weight: bold; text-align: right;\">192</td><td style = \"text-align: right;\">192</td><td style = \"text-align: left;\">Female</td><td style = \"text-align: right;\">32</td><td style = \"text-align: right;\">103</td><td style = \"text-align: right;\">69</td></tr><tr><td class = \"rowNumber\" style = \"font-weight: bold; text-align: right;\">193</td><td style = \"text-align: right;\">193</td><td style = \"text-align: left;\">Male</td><td style = \"text-align: right;\">33</td><td style = \"text-align: right;\">113</td><td style = \"text-align: right;\">8</td></tr><tr><td class = \"rowNumber\" style = \"font-weight: bold; text-align: right;\">194</td><td style = \"text-align: right;\">194</td><td style = \"text-align: left;\">Female</td><td style = \"text-align: right;\">38</td><td style = \"text-align: right;\">113</td><td style = \"text-align: right;\">91</td></tr><tr><td class = \"rowNumber\" style = \"font-weight: bold; text-align: right;\">195</td><td style = \"text-align: right;\">195</td><td style = \"text-align: left;\">Female</td><td style = \"text-align: right;\">47</td><td style = \"text-align: right;\">120</td><td style = \"text-align: right;\">16</td></tr><tr><td class = \"rowNumber\" style = \"font-weight: bold; text-align: right;\">196</td><td style = \"text-align: right;\">196</td><td style = \"text-align: left;\">Female</td><td style = \"text-align: right;\">35</td><td style = \"text-align: right;\">120</td><td style = \"text-align: right;\">79</td></tr><tr><td class = \"rowNumber\" style = \"font-weight: bold; text-align: right;\">197</td><td style = \"text-align: right;\">197</td><td style = \"text-align: left;\">Female</td><td style = \"text-align: right;\">45</td><td style = \"text-align: right;\">126</td><td style = \"text-align: right;\">28</td></tr><tr><td class = \"rowNumber\" style = \"font-weight: bold; text-align: right;\">198</td><td style = \"text-align: right;\">198</td><td style = \"text-align: left;\">Male</td><td style = \"text-align: right;\">32</td><td style = \"text-align: right;\">126</td><td style = \"text-align: right;\">74</td></tr><tr><td class = \"rowNumber\" style = \"font-weight: bold; text-align: right;\">199</td><td style = \"text-align: right;\">199</td><td style = \"text-align: left;\">Male</td><td style = \"text-align: right;\">32</td><td style = \"text-align: right;\">137</td><td style = \"text-align: right;\">18</td></tr><tr><td class = \"rowNumber\" style = \"font-weight: bold; text-align: right;\">200</td><td style = \"text-align: right;\">200</td><td style = \"text-align: left;\">Male</td><td style = \"text-align: right;\">30</td><td style = \"text-align: right;\">137</td><td style = \"text-align: right;\">83</td></tr></tbody></table></div>"
      ],
      "text/latex": [
       "\\begin{tabular}{r|ccccc}\n",
       "\t& id & gender & age & income & spendingscore\\\\\n",
       "\t\\hline\n",
       "\t& Int64 & String7 & Int64 & Int64 & Int64\\\\\n",
       "\t\\hline\n",
       "\t1 & 1 & Male & 19 & 15 & 39 \\\\\n",
       "\t2 & 2 & Male & 21 & 15 & 81 \\\\\n",
       "\t3 & 3 & Female & 20 & 16 & 6 \\\\\n",
       "\t4 & 4 & Female & 23 & 16 & 77 \\\\\n",
       "\t5 & 5 & Female & 31 & 17 & 40 \\\\\n",
       "\t6 & 6 & Female & 22 & 17 & 76 \\\\\n",
       "\t7 & 7 & Female & 35 & 18 & 6 \\\\\n",
       "\t8 & 8 & Female & 23 & 18 & 94 \\\\\n",
       "\t9 & 9 & Male & 64 & 19 & 3 \\\\\n",
       "\t10 & 10 & Female & 30 & 19 & 72 \\\\\n",
       "\t11 & 11 & Male & 67 & 19 & 14 \\\\\n",
       "\t12 & 12 & Female & 35 & 19 & 99 \\\\\n",
       "\t13 & 13 & Female & 58 & 20 & 15 \\\\\n",
       "\t14 & 14 & Female & 24 & 20 & 77 \\\\\n",
       "\t15 & 15 & Male & 37 & 20 & 13 \\\\\n",
       "\t16 & 16 & Male & 22 & 20 & 79 \\\\\n",
       "\t17 & 17 & Female & 35 & 21 & 35 \\\\\n",
       "\t18 & 18 & Male & 20 & 21 & 66 \\\\\n",
       "\t19 & 19 & Male & 52 & 23 & 29 \\\\\n",
       "\t20 & 20 & Female & 35 & 23 & 98 \\\\\n",
       "\t21 & 21 & Male & 35 & 24 & 35 \\\\\n",
       "\t22 & 22 & Male & 25 & 24 & 73 \\\\\n",
       "\t23 & 23 & Female & 46 & 25 & 5 \\\\\n",
       "\t24 & 24 & Male & 31 & 25 & 73 \\\\\n",
       "\t25 & 25 & Female & 54 & 28 & 14 \\\\\n",
       "\t26 & 26 & Male & 29 & 28 & 82 \\\\\n",
       "\t27 & 27 & Female & 45 & 28 & 32 \\\\\n",
       "\t28 & 28 & Male & 35 & 28 & 61 \\\\\n",
       "\t29 & 29 & Female & 40 & 29 & 31 \\\\\n",
       "\t30 & 30 & Female & 23 & 29 & 87 \\\\\n",
       "\t$\\dots$ & $\\dots$ & $\\dots$ & $\\dots$ & $\\dots$ & $\\dots$ \\\\\n",
       "\\end{tabular}\n"
      ],
      "text/plain": [
       "\u001b[1m200×5 DataFrame\u001b[0m\n",
       "\u001b[1m Row \u001b[0m│\u001b[1m id    \u001b[0m\u001b[1m gender  \u001b[0m\u001b[1m age   \u001b[0m\u001b[1m income \u001b[0m\u001b[1m spendingscore \u001b[0m\n",
       "     │\u001b[90m Int64 \u001b[0m\u001b[90m String7 \u001b[0m\u001b[90m Int64 \u001b[0m\u001b[90m Int64  \u001b[0m\u001b[90m Int64         \u001b[0m\n",
       "─────┼──────────────────────────────────────────────\n",
       "   1 │     1  Male        19      15             39\n",
       "   2 │     2  Male        21      15             81\n",
       "   3 │     3  Female      20      16              6\n",
       "   4 │     4  Female      23      16             77\n",
       "   5 │     5  Female      31      17             40\n",
       "   6 │     6  Female      22      17             76\n",
       "   7 │     7  Female      35      18              6\n",
       "   8 │     8  Female      23      18             94\n",
       "   9 │     9  Male        64      19              3\n",
       "  10 │    10  Female      30      19             72\n",
       "  11 │    11  Male        67      19             14\n",
       "  ⋮  │   ⋮       ⋮       ⋮      ⋮           ⋮\n",
       " 191 │   191  Female      34     103             23\n",
       " 192 │   192  Female      32     103             69\n",
       " 193 │   193  Male        33     113              8\n",
       " 194 │   194  Female      38     113             91\n",
       " 195 │   195  Female      47     120             16\n",
       " 196 │   196  Female      35     120             79\n",
       " 197 │   197  Female      45     126             28\n",
       " 198 │   198  Male        32     126             74\n",
       " 199 │   199  Male        32     137             18\n",
       " 200 │   200  Male        30     137             83\n",
       "\u001b[36m                                    179 rows omitted\u001b[0m"
      ]
     },
     "execution_count": 65,
     "metadata": {},
     "output_type": "execute_result"
    }
   ],
   "source": [
    "originaldataset = CSV.read(joinpath(_PATH_TO_DATA, \"mall-customers-dataset.csv\"), DataFrame)"
   ]
  },
  {
   "cell_type": "markdown",
   "id": "3afb0afa-1a1f-42e1-93d6-c6389be3766b",
   "metadata": {},
   "source": [
    "Let's remap the `gender` column to either a `Male = -1` or `Female = 1` so we can look at (and analyze) this data later. "
   ]
  },
  {
   "cell_type": "code",
   "execution_count": 83,
   "id": "58f6f91f-6c65-4d41-b3e1-62e8b0708b45",
   "metadata": {},
   "outputs": [],
   "source": [
    "dataset = let\n",
    "    treated_dataset = copy(originaldataset);\n",
    "    transform!(treated_dataset, :gender => ByRow( x-> (x==\"Male\" ? -1 : 1)) => :gender);\n",
    "    treated_dataset \n",
    "end;"
   ]
  },
  {
   "cell_type": "code",
   "execution_count": 85,
   "id": "b786ae50-eb0b-49e0-a404-d98e4c0f6046",
   "metadata": {},
   "outputs": [
    {
     "data": {
      "text/html": [
       "<div><div style = \"float: left;\"><span>200×5 DataFrame</span></div><div style = \"float: right;\"><span style = \"font-style: italic;\">175 rows omitted</span></div><div style = \"clear: both;\"></div></div><div class = \"data-frame\" style = \"overflow-x: scroll;\"><table class = \"data-frame\" style = \"margin-bottom: 6px;\"><thead><tr class = \"header\"><th class = \"rowNumber\" style = \"font-weight: bold; text-align: right;\">Row</th><th style = \"text-align: left;\">id</th><th style = \"text-align: left;\">gender</th><th style = \"text-align: left;\">age</th><th style = \"text-align: left;\">income</th><th style = \"text-align: left;\">spendingscore</th></tr><tr class = \"subheader headerLastRow\"><th class = \"rowNumber\" style = \"font-weight: bold; text-align: right;\"></th><th title = \"Int64\" style = \"text-align: left;\">Int64</th><th title = \"Int64\" style = \"text-align: left;\">Int64</th><th title = \"Int64\" style = \"text-align: left;\">Int64</th><th title = \"Int64\" style = \"text-align: left;\">Int64</th><th title = \"Int64\" style = \"text-align: left;\">Int64</th></tr></thead><tbody><tr><td class = \"rowNumber\" style = \"font-weight: bold; text-align: right;\">1</td><td style = \"text-align: right;\">1</td><td style = \"text-align: right;\">-1</td><td style = \"text-align: right;\">19</td><td style = \"text-align: right;\">15</td><td style = \"text-align: right;\">39</td></tr><tr><td class = \"rowNumber\" style = \"font-weight: bold; text-align: right;\">2</td><td style = \"text-align: right;\">2</td><td style = \"text-align: right;\">-1</td><td style = \"text-align: right;\">21</td><td style = \"text-align: right;\">15</td><td style = \"text-align: right;\">81</td></tr><tr><td class = \"rowNumber\" style = \"font-weight: bold; text-align: right;\">3</td><td style = \"text-align: right;\">3</td><td style = \"text-align: right;\">1</td><td style = \"text-align: right;\">20</td><td style = \"text-align: right;\">16</td><td style = \"text-align: right;\">6</td></tr><tr><td class = \"rowNumber\" style = \"font-weight: bold; text-align: right;\">4</td><td style = \"text-align: right;\">4</td><td style = \"text-align: right;\">1</td><td style = \"text-align: right;\">23</td><td style = \"text-align: right;\">16</td><td style = \"text-align: right;\">77</td></tr><tr><td class = \"rowNumber\" style = \"font-weight: bold; text-align: right;\">5</td><td style = \"text-align: right;\">5</td><td style = \"text-align: right;\">1</td><td style = \"text-align: right;\">31</td><td style = \"text-align: right;\">17</td><td style = \"text-align: right;\">40</td></tr><tr><td class = \"rowNumber\" style = \"font-weight: bold; text-align: right;\">6</td><td style = \"text-align: right;\">6</td><td style = \"text-align: right;\">1</td><td style = \"text-align: right;\">22</td><td style = \"text-align: right;\">17</td><td style = \"text-align: right;\">76</td></tr><tr><td class = \"rowNumber\" style = \"font-weight: bold; text-align: right;\">7</td><td style = \"text-align: right;\">7</td><td style = \"text-align: right;\">1</td><td style = \"text-align: right;\">35</td><td style = \"text-align: right;\">18</td><td style = \"text-align: right;\">6</td></tr><tr><td class = \"rowNumber\" style = \"font-weight: bold; text-align: right;\">8</td><td style = \"text-align: right;\">8</td><td style = \"text-align: right;\">1</td><td style = \"text-align: right;\">23</td><td style = \"text-align: right;\">18</td><td style = \"text-align: right;\">94</td></tr><tr><td class = \"rowNumber\" style = \"font-weight: bold; text-align: right;\">9</td><td style = \"text-align: right;\">9</td><td style = \"text-align: right;\">-1</td><td style = \"text-align: right;\">64</td><td style = \"text-align: right;\">19</td><td style = \"text-align: right;\">3</td></tr><tr><td class = \"rowNumber\" style = \"font-weight: bold; text-align: right;\">10</td><td style = \"text-align: right;\">10</td><td style = \"text-align: right;\">1</td><td style = \"text-align: right;\">30</td><td style = \"text-align: right;\">19</td><td style = \"text-align: right;\">72</td></tr><tr><td class = \"rowNumber\" style = \"font-weight: bold; text-align: right;\">11</td><td style = \"text-align: right;\">11</td><td style = \"text-align: right;\">-1</td><td style = \"text-align: right;\">67</td><td style = \"text-align: right;\">19</td><td style = \"text-align: right;\">14</td></tr><tr><td class = \"rowNumber\" style = \"font-weight: bold; text-align: right;\">12</td><td style = \"text-align: right;\">12</td><td style = \"text-align: right;\">1</td><td style = \"text-align: right;\">35</td><td style = \"text-align: right;\">19</td><td style = \"text-align: right;\">99</td></tr><tr><td class = \"rowNumber\" style = \"font-weight: bold; text-align: right;\">13</td><td style = \"text-align: right;\">13</td><td style = \"text-align: right;\">1</td><td style = \"text-align: right;\">58</td><td style = \"text-align: right;\">20</td><td style = \"text-align: right;\">15</td></tr><tr><td style = \"text-align: right;\">&vellip;</td><td style = \"text-align: right;\">&vellip;</td><td style = \"text-align: right;\">&vellip;</td><td style = \"text-align: right;\">&vellip;</td><td style = \"text-align: right;\">&vellip;</td><td style = \"text-align: right;\">&vellip;</td></tr><tr><td class = \"rowNumber\" style = \"font-weight: bold; text-align: right;\">189</td><td style = \"text-align: right;\">189</td><td style = \"text-align: right;\">1</td><td style = \"text-align: right;\">41</td><td style = \"text-align: right;\">103</td><td style = \"text-align: right;\">17</td></tr><tr><td class = \"rowNumber\" style = \"font-weight: bold; text-align: right;\">190</td><td style = \"text-align: right;\">190</td><td style = \"text-align: right;\">1</td><td style = \"text-align: right;\">36</td><td style = \"text-align: right;\">103</td><td style = \"text-align: right;\">85</td></tr><tr><td class = \"rowNumber\" style = \"font-weight: bold; text-align: right;\">191</td><td style = \"text-align: right;\">191</td><td style = \"text-align: right;\">1</td><td style = \"text-align: right;\">34</td><td style = \"text-align: right;\">103</td><td style = \"text-align: right;\">23</td></tr><tr><td class = \"rowNumber\" style = \"font-weight: bold; text-align: right;\">192</td><td style = \"text-align: right;\">192</td><td style = \"text-align: right;\">1</td><td style = \"text-align: right;\">32</td><td style = \"text-align: right;\">103</td><td style = \"text-align: right;\">69</td></tr><tr><td class = \"rowNumber\" style = \"font-weight: bold; text-align: right;\">193</td><td style = \"text-align: right;\">193</td><td style = \"text-align: right;\">-1</td><td style = \"text-align: right;\">33</td><td style = \"text-align: right;\">113</td><td style = \"text-align: right;\">8</td></tr><tr><td class = \"rowNumber\" style = \"font-weight: bold; text-align: right;\">194</td><td style = \"text-align: right;\">194</td><td style = \"text-align: right;\">1</td><td style = \"text-align: right;\">38</td><td style = \"text-align: right;\">113</td><td style = \"text-align: right;\">91</td></tr><tr><td class = \"rowNumber\" style = \"font-weight: bold; text-align: right;\">195</td><td style = \"text-align: right;\">195</td><td style = \"text-align: right;\">1</td><td style = \"text-align: right;\">47</td><td style = \"text-align: right;\">120</td><td style = \"text-align: right;\">16</td></tr><tr><td class = \"rowNumber\" style = \"font-weight: bold; text-align: right;\">196</td><td style = \"text-align: right;\">196</td><td style = \"text-align: right;\">1</td><td style = \"text-align: right;\">35</td><td style = \"text-align: right;\">120</td><td style = \"text-align: right;\">79</td></tr><tr><td class = \"rowNumber\" style = \"font-weight: bold; text-align: right;\">197</td><td style = \"text-align: right;\">197</td><td style = \"text-align: right;\">1</td><td style = \"text-align: right;\">45</td><td style = \"text-align: right;\">126</td><td style = \"text-align: right;\">28</td></tr><tr><td class = \"rowNumber\" style = \"font-weight: bold; text-align: right;\">198</td><td style = \"text-align: right;\">198</td><td style = \"text-align: right;\">-1</td><td style = \"text-align: right;\">32</td><td style = \"text-align: right;\">126</td><td style = \"text-align: right;\">74</td></tr><tr><td class = \"rowNumber\" style = \"font-weight: bold; text-align: right;\">199</td><td style = \"text-align: right;\">199</td><td style = \"text-align: right;\">-1</td><td style = \"text-align: right;\">32</td><td style = \"text-align: right;\">137</td><td style = \"text-align: right;\">18</td></tr><tr><td class = \"rowNumber\" style = \"font-weight: bold; text-align: right;\">200</td><td style = \"text-align: right;\">200</td><td style = \"text-align: right;\">-1</td><td style = \"text-align: right;\">30</td><td style = \"text-align: right;\">137</td><td style = \"text-align: right;\">83</td></tr></tbody></table></div>"
      ],
      "text/latex": [
       "\\begin{tabular}{r|ccccc}\n",
       "\t& id & gender & age & income & spendingscore\\\\\n",
       "\t\\hline\n",
       "\t& Int64 & Int64 & Int64 & Int64 & Int64\\\\\n",
       "\t\\hline\n",
       "\t1 & 1 & -1 & 19 & 15 & 39 \\\\\n",
       "\t2 & 2 & -1 & 21 & 15 & 81 \\\\\n",
       "\t3 & 3 & 1 & 20 & 16 & 6 \\\\\n",
       "\t4 & 4 & 1 & 23 & 16 & 77 \\\\\n",
       "\t5 & 5 & 1 & 31 & 17 & 40 \\\\\n",
       "\t6 & 6 & 1 & 22 & 17 & 76 \\\\\n",
       "\t7 & 7 & 1 & 35 & 18 & 6 \\\\\n",
       "\t8 & 8 & 1 & 23 & 18 & 94 \\\\\n",
       "\t9 & 9 & -1 & 64 & 19 & 3 \\\\\n",
       "\t10 & 10 & 1 & 30 & 19 & 72 \\\\\n",
       "\t11 & 11 & -1 & 67 & 19 & 14 \\\\\n",
       "\t12 & 12 & 1 & 35 & 19 & 99 \\\\\n",
       "\t13 & 13 & 1 & 58 & 20 & 15 \\\\\n",
       "\t14 & 14 & 1 & 24 & 20 & 77 \\\\\n",
       "\t15 & 15 & -1 & 37 & 20 & 13 \\\\\n",
       "\t16 & 16 & -1 & 22 & 20 & 79 \\\\\n",
       "\t17 & 17 & 1 & 35 & 21 & 35 \\\\\n",
       "\t18 & 18 & -1 & 20 & 21 & 66 \\\\\n",
       "\t19 & 19 & -1 & 52 & 23 & 29 \\\\\n",
       "\t20 & 20 & 1 & 35 & 23 & 98 \\\\\n",
       "\t21 & 21 & -1 & 35 & 24 & 35 \\\\\n",
       "\t22 & 22 & -1 & 25 & 24 & 73 \\\\\n",
       "\t23 & 23 & 1 & 46 & 25 & 5 \\\\\n",
       "\t24 & 24 & -1 & 31 & 25 & 73 \\\\\n",
       "\t25 & 25 & 1 & 54 & 28 & 14 \\\\\n",
       "\t26 & 26 & -1 & 29 & 28 & 82 \\\\\n",
       "\t27 & 27 & 1 & 45 & 28 & 32 \\\\\n",
       "\t28 & 28 & -1 & 35 & 28 & 61 \\\\\n",
       "\t29 & 29 & 1 & 40 & 29 & 31 \\\\\n",
       "\t30 & 30 & 1 & 23 & 29 & 87 \\\\\n",
       "\t$\\dots$ & $\\dots$ & $\\dots$ & $\\dots$ & $\\dots$ & $\\dots$ \\\\\n",
       "\\end{tabular}\n"
      ],
      "text/plain": [
       "\u001b[1m200×5 DataFrame\u001b[0m\n",
       "\u001b[1m Row \u001b[0m│\u001b[1m id    \u001b[0m\u001b[1m gender \u001b[0m\u001b[1m age   \u001b[0m\u001b[1m income \u001b[0m\u001b[1m spendingscore \u001b[0m\n",
       "     │\u001b[90m Int64 \u001b[0m\u001b[90m Int64  \u001b[0m\u001b[90m Int64 \u001b[0m\u001b[90m Int64  \u001b[0m\u001b[90m Int64         \u001b[0m\n",
       "─────┼─────────────────────────────────────────────\n",
       "   1 │     1      -1     19      15             39\n",
       "   2 │     2      -1     21      15             81\n",
       "   3 │     3       1     20      16              6\n",
       "   4 │     4       1     23      16             77\n",
       "   5 │     5       1     31      17             40\n",
       "   6 │     6       1     22      17             76\n",
       "   7 │     7       1     35      18              6\n",
       "   8 │     8       1     23      18             94\n",
       "   9 │     9      -1     64      19              3\n",
       "  10 │    10       1     30      19             72\n",
       "  11 │    11      -1     67      19             14\n",
       "  ⋮  │   ⋮      ⋮       ⋮      ⋮           ⋮\n",
       " 191 │   191       1     34     103             23\n",
       " 192 │   192       1     32     103             69\n",
       " 193 │   193      -1     33     113              8\n",
       " 194 │   194       1     38     113             91\n",
       " 195 │   195       1     47     120             16\n",
       " 196 │   196       1     35     120             79\n",
       " 197 │   197       1     45     126             28\n",
       " 198 │   198      -1     32     126             74\n",
       " 199 │   199      -1     32     137             18\n",
       " 200 │   200      -1     30     137             83\n",
       "\u001b[36m                                   179 rows omitted\u001b[0m"
      ]
     },
     "execution_count": 85,
     "metadata": {},
     "output_type": "execute_result"
    }
   ],
   "source": [
    "dataset"
   ]
  },
  {
   "cell_type": "markdown",
   "id": "da207629-2925-4317-83f7-273976b051d5",
   "metadata": {
    "editable": true,
    "slideshow": {
     "slide_type": ""
    },
    "tags": []
   },
   "source": [
    "## What is unsupervised learning?\n",
    "Fill me in"
   ]
  },
  {
   "cell_type": "code",
   "execution_count": null,
   "id": "b62ca293-2a3b-4195-b5a5-be1c56d8c056",
   "metadata": {},
   "outputs": [],
   "source": []
  }
 ],
 "metadata": {
  "kernelspec": {
   "display_name": "Julia 1.11.2",
   "language": "julia",
   "name": "julia-1.11"
  },
  "language_info": {
   "file_extension": ".jl",
   "mimetype": "application/julia",
   "name": "julia",
   "version": "1.11.2"
  }
 },
 "nbformat": 4,
 "nbformat_minor": 5
}
