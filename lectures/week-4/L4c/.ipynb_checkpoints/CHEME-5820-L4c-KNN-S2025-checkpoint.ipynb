{
 "cells": [
  {
   "cell_type": "markdown",
   "id": "a09c9ee1-3ba4-43bf-8678-65d5f7ac2481",
   "metadata": {},
   "source": [
    "# L4a: k-Nearest Neighbor (kNN) Classification"
   ]
  },
  {
   "cell_type": "code",
   "execution_count": null,
   "id": "95c803bd-d740-4fcc-987c-32a36b71cb8a",
   "metadata": {},
   "outputs": [],
   "source": []
  }
 ],
 "metadata": {
  "kernelspec": {
   "display_name": "Julia 1.11.2",
   "language": "julia",
   "name": "julia-1.11"
  },
  "language_info": {
   "file_extension": ".jl",
   "mimetype": "application/julia",
   "name": "julia",
   "version": "1.11.2"
  }
 },
 "nbformat": 4,
 "nbformat_minor": 5
}
