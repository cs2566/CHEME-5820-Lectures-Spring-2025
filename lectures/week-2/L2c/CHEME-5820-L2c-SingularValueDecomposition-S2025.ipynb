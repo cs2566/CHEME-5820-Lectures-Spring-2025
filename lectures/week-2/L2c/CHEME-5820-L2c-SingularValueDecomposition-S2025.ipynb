{
 "cells": [
  {
   "cell_type": "markdown",
   "id": "3f99aa55-9603-464c-80b0-74a22244e8d0",
   "metadata": {},
   "source": [
    "# L2c: Singular Value Decomposition of Systems and Data\n",
    "In this lecture, we'll continue our discussion of eigendecomposition and explore a powerful technique called [Singular Value Decomposition (SVD)](https://en.wikipedia.org/wiki/Singular_value_decomposition), which is closely related to eigendecomposition. There are several key ideas in this lecture:\n",
    "\n",
    "* __Singular Value Decomposition (SVD)__ is a fundamental technique in linear algebra that decomposes a matrix $\\mathbf{A}\\in\\mathbb{C}^{n\\times{m}}$ into three distinct matrices, $\\mathbf{A} = \\mathbf{U}\\mathbf{\\Sigma}\\mathbf{V}^{T}$. The matrices $\\mathbf{U}$ and $\\mathbf{V}$  are orthogonal matrices containing the left and right singular vectors, respectively, while the $\\mathbf{\\Sigma}$ is a diagonal matrix containing the singular values.\n",
    "* __Singular vectors__ contained in the columns of the $\\mathbf{U}$ and $\\mathbf{V}$ are the eigenvectors of the matrix product $\\mathbf{A}\\mathbf{A}^{T}$ and $\\mathbf{A}^{T}\\mathbf{A}$, respectively. In cases where $\\mathbf{A}$ is symmetric (square) and positive definite (positive eigenvalues), the left and right singular vectors align with the eigenvectors.\n",
    "* __Singular values__ of a matrix $\\mathbf{A}$ are the square roots of the non-zero eigenvalues of either $\\mathbf{A}\\mathbf{A}^{T}$ or $\\mathbf{A}^{T}\\mathbf{A}$, establishing a direct connection between these two values. In cases where $\\mathbf{A}$ is symmetric (square) and positive definite (positive eigenvalues), the singular values correspond directly to the absolute values of the eigenvalues.\n",
    "* __Numerical Stability__. SVD is more stable than eigendecomposition, especially in Principal Component Analysis (PCA), making it preferable for machine learning applications. Many SVD implementations are more stable than the naive QR iteration method we developed for eigendecomposition.\n",
    "\n",
    "Lecture notes can be found: [here!](https://github.com/varnerlab/CHEME-5820-Lectures-Spring-2025/blob/main/lectures/week-2/L2c/docs/Notes.pdf)"
   ]
  },
  {
   "cell_type": "code",
   "execution_count": null,
   "id": "90661baa-e117-4d55-8fd7-8dc7a442a591",
   "metadata": {},
   "outputs": [],
   "source": []
  }
 ],
 "metadata": {
  "kernelspec": {
   "display_name": "Julia 1.11.2",
   "language": "julia",
   "name": "julia-1.11"
  },
  "language_info": {
   "file_extension": ".jl",
   "mimetype": "application/julia",
   "name": "julia",
   "version": "1.11.2"
  }
 },
 "nbformat": 4,
 "nbformat_minor": 5
}
